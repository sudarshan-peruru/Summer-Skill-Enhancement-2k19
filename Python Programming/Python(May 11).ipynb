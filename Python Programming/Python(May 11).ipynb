{
 "cells": [
  {
   "cell_type": "markdown",
   "metadata": {},
   "source": [
    "# Problem Solving in Python\n",
    "\n",
    "\n",
    "### Day 8\n",
    "### 11 May 2019 \n",
    "### P. Sudarshan Kumar\n"
   ]
  },
  {
   "cell_type": "markdown",
   "metadata": {},
   "source": [
    "### Problem 1: \n",
    "\n",
    "\n",
    "#### Problem Statment\n",
    "    Define a function to convert a decimal number to the corresponding binary number \n",
    "    \n",
    "#### Constraints\n",
    "    ----\n",
    "    \n",
    "#### Test Cases\n",
    "    * decimalToBinary(15) -> 1111\n",
    "    * decimalToBinary(1) -> 1\n"
   ]
  },
  {
   "cell_type": "code",
   "execution_count": 67,
   "metadata": {},
   "outputs": [
    {
     "data": {
      "text/plain": [
       "100"
      ]
     },
     "execution_count": 67,
     "metadata": {},
     "output_type": "execute_result"
    }
   ],
   "source": [
    "def decimalToBinary( n ): \n",
    "    if n == 0: \n",
    "        return 0\n",
    "    else: \n",
    "        return (n % 2 + 10 * decimalToBinary(int(n / 2)))\n",
    "\n",
    "decimalToBinary(4)"
   ]
  },
  {
   "cell_type": "markdown",
   "metadata": {},
   "source": [
    "### Problem 2: \n",
    "\n",
    "\n",
    "#### Problem Statment\n",
    "    Define a function to check if a given year is a leap year. Returns a boolean value\n",
    "    \n",
    "#### Constraints\n",
    "    \n",
    "    ----\n",
    "#### Test Cases\n",
    "    * 2000 -> True\n",
    "    * 1900 -> False\n",
    "    * 2012 -> True\n",
    "    * 2020 -> True\n",
    "    * 0200 -> False"
   ]
  },
  {
   "cell_type": "code",
   "execution_count": 68,
   "metadata": {},
   "outputs": [
    {
     "data": {
      "text/plain": [
       "False"
      ]
     },
     "execution_count": 68,
     "metadata": {},
     "output_type": "execute_result"
    }
   ],
   "source": [
    "def leap(n):\n",
    "    if n%4 ==0 and n%100 != 0:\n",
    "        return True\n",
    "    elif n%400 == 0:\n",
    "        return True\n",
    "    else:\n",
    "        return False\n",
    "    \n",
    "leap(1900)"
   ]
  },
  {
   "cell_type": "markdown",
   "metadata": {},
   "source": [
    "### Problem 3: \n",
    "\n",
    "\n",
    "#### Problem Statment\n",
    "    Design a Python script to determine the difference in date for given two dates in YYYY:MM:DD format(0 <= YYYY <= 9999, 1 <= MM <= 12, 1 <= DD <= 31) following the leap year rules. Return the total number of days existing between the two dates.    \n",
    "#### Constraints\n",
    "    ----\n",
    "    \n",
    "#### Test Cases\n",
    "    * dateDifference('2019:05:10', '2019:05:01') -> 9\n",
    "    * dateDifference('0003:03:03', '0003:06:06') -> 95"
   ]
  },
  {
   "cell_type": "code",
   "execution_count": 72,
   "metadata": {},
   "outputs": [
    {
     "data": {
      "text/plain": [
       "10"
      ]
     },
     "execution_count": 72,
     "metadata": {},
     "output_type": "execute_result"
    }
   ],
   "source": [
    "def dateDifference(d1,d2):\n",
    "    if d1[0]%4==0 and d1[0]%100!=0 or d2[0]%4==0 and d2[0]%100!=0 :\n",
    "        condition = True\n",
    "    elif d1[0]%400==0 or d2[0]%400==0 :\n",
    "        condition = True\n",
    "    else:\n",
    "        condition = False\n",
    "    sums=0\n",
    "    sumt=0\n",
    "    diff=0\n",
    "    n=0\n",
    "    m=0\n",
    "    if d1[0] != d2[0]:\n",
    "        if d1[0]>d2[0]:\n",
    "            diff = d1[0] - d2[0]\n",
    "        else:\n",
    "            diff = d2[0] - d1[0]\n",
    "    sums += diff*365\n",
    "    if (condition == True):\n",
    "        dic = {'1':31,'2':29,'3':31,'4':30,'5':31,'6':30,'7':31,'8':31,'9':30,'10':31,'11':30,'12':31}\n",
    "    else:\n",
    "        dic = {'1':31,'2':28,'3':31,'4':30,'5':31,'6':30,'7':31,'8':31,'9':30,'10':31,'11':30,'12':31}\n",
    "    if d1[1] != d2[1]:\n",
    "        n=d1[1]\n",
    "        m=d2[1]\n",
    "        for i in range(d1[1],d2[1]):\n",
    "            sums += dic[str(i)]\n",
    "    if d1[2] != d2[2]:\n",
    "        if d1[2] > d2[2]:\n",
    "            diff = d1[2] - d2[2]\n",
    "        else:\n",
    "             diff = d2[2] - d1[2]\n",
    "    sums += diff\n",
    "    \n",
    "   \n",
    "    return sums\n",
    "\n",
    "dateDifference((2019,5,10), (2019,5,20))"
   ]
  },
  {
   "cell_type": "markdown",
   "metadata": {},
   "source": [
    "### Problem 4: \n",
    "\n",
    "\n",
    "#### Problem Statment\n",
    "    Define a function to find the average of all the outer elements of an N x M matrix.\n",
    "    \n",
    "#### Constraints\n",
    "    ----\n",
    "    \n",
    "#### Test Cases\n",
    "    * averageOuterMatrix([[1, 2, 3], [4, 5, 6], [7, 8, 9], [10, 11, 12]] -> 4.5\n"
   ]
  },
  {
   "cell_type": "code",
   "execution_count": 73,
   "metadata": {},
   "outputs": [
    {
     "data": {
      "text/plain": [
       "6.5"
      ]
     },
     "execution_count": 73,
     "metadata": {},
     "output_type": "execute_result"
    }
   ],
   "source": [
    "def aom(a):\n",
    "    c=s=0\n",
    "    for i in range(0,len(a)):\n",
    "        if i==0 or i==len(a)-1:\n",
    "            s=s+sum(a[i])\n",
    "            c=c+len(a[i])\n",
    "        else:\n",
    "            s=s+a[i][0]+a[i][len(a[i])-1]\n",
    "            c=c+2\n",
    "    return s/c\n",
    "\n",
    "aom([[1,2,3], [4, 5, 6], [7, 8, 9], [10, 11, 12]])     "
   ]
  },
  {
   "cell_type": "markdown",
   "metadata": {},
   "source": [
    "### Problem 5: \n",
    "\n",
    "\n",
    "#### Problem Statment\n",
    "Define a function to print the sequence of spiral pattern elements for a given N x N matrix\n",
    "    \n",
    "#### Constraints\n",
    "    ----\n",
    "    \n",
    "#### Test Cases\n",
    "    * spiralPattern([[1,2,3], [4,5,6], [7,8,9]]) -> 1 2 3 6 9 8 7 4 5\n"
   ]
  },
  {
   "cell_type": "code",
   "execution_count": 87,
   "metadata": {},
   "outputs": [
    {
     "name": "stdout",
     "output_type": "stream",
     "text": [
      "3\n",
      "2\n",
      "1\n",
      "0\n"
     ]
    }
   ],
   "source": [
    "for i in range (3,-1,-1):\n",
    "    print(i)"
   ]
  },
  {
   "cell_type": "code",
   "execution_count": 96,
   "metadata": {},
   "outputs": [
    {
     "name": "stdout",
     "output_type": "stream",
     "text": [
      "[1, 2, 3, 6, 9, 8, 7, 4, 5]\n"
     ]
    }
   ],
   "source": [
    "def layerTopRight(matrix):\n",
    "  \n",
    "  top = matrix.pop(0) \n",
    "  right = []\n",
    "  for i in range(0, len(matrix)):\n",
    "    e = matrix[i].pop()\n",
    "    right.append(e)\n",
    "    \n",
    "  return top + right\n",
    "\n",
    "def layerBottomLeft(matrix):\n",
    "  \n",
    "  bottom = matrix.pop()[::-1]\n",
    "  \n",
    "  left = []\n",
    "  \n",
    "  for i in range(0, len(matrix)):\n",
    "    e = matrix[i].pop(0)\n",
    "    left.append(e)\n",
    "    \n",
    "  return bottom + left[::-1]\n",
    "\n",
    "\n",
    "def spiral(matrix):\n",
    "  \n",
    "  spir = []\n",
    "  \n",
    "  while len(matrix) > 0:\n",
    "    \n",
    "    if len(matrix) == 1:\n",
    "      spir += matrix[0]\n",
    "      break\n",
    "      \n",
    "    tr = layerTopRight(matrix)\n",
    "    spir += tr\n",
    "    \n",
    "    bl = layerBottomLeft(matrix)\n",
    "    spir += bl\n",
    "    \n",
    "  return spir\n",
    "  \n",
    "  \n",
    "# setup a matrix  \n",
    "M = [[1, 2, 3 ],[4, 5, 6 ], [7, 8, 9 ]]\n",
    "\n",
    "print(spiral(M))"
   ]
  },
  {
   "cell_type": "code",
   "execution_count": null,
   "metadata": {},
   "outputs": [],
   "source": []
  }
 ],
 "metadata": {
  "kernelspec": {
   "display_name": "Python 3",
   "language": "python",
   "name": "python3"
  },
  "language_info": {
   "codemirror_mode": {
    "name": "ipython",
    "version": 3
   },
   "file_extension": ".py",
   "mimetype": "text/x-python",
   "name": "python",
   "nbconvert_exporter": "python",
   "pygments_lexer": "ipython3",
   "version": "3.7.3"
  }
 },
 "nbformat": 4,
 "nbformat_minor": 2
}
