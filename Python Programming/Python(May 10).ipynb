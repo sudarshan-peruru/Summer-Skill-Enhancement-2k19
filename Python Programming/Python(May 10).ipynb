{
 "cells": [
  {
   "cell_type": "markdown",
   "metadata": {},
   "source": [
    "# Problems on Recursion\n",
    "\n",
    "\n",
    "### Day 7\n",
    "### 10 May 2019 \n",
    "### P. Sudarshan Kumar\n",
    "\n"
   ]
  },
  {
   "cell_type": "markdown",
   "metadata": {},
   "source": [
    "## Recursion"
   ]
  },
  {
   "cell_type": "markdown",
   "metadata": {},
   "source": [
    "### Problem 1: \n",
    "\n",
    "\n",
    "#### Problem Statment\n",
    "    Execute power function using recursion.\n",
    "    \n",
    "#### Constraints\n",
    "    ----\n",
    "    \n",
    "#### Test Cases\n",
    "    ----"
   ]
  },
  {
   "cell_type": "code",
   "execution_count": 2,
   "metadata": {},
   "outputs": [
    {
     "data": {
      "text/plain": [
       "1024"
      ]
     },
     "execution_count": 2,
     "metadata": {},
     "output_type": "execute_result"
    }
   ],
   "source": [
    "def power(n,r):\n",
    "    if r == 1:\n",
    "        return n\n",
    "    else:\n",
    "        return power(n,r-1)*n\n",
    "    \n",
    "power(2,10)"
   ]
  },
  {
   "cell_type": "markdown",
   "metadata": {},
   "source": [
    "### Problem 2: \n",
    "\n",
    "\n",
    "#### Problem Statment\n",
    "    Execute factorial function using recursion.\n",
    "    \n",
    "#### Constraints\n",
    "    ----\n",
    "    \n",
    "#### Test Cases\n",
    "    ----"
   ]
  },
  {
   "cell_type": "code",
   "execution_count": 3,
   "metadata": {},
   "outputs": [
    {
     "data": {
      "text/plain": [
       "120"
      ]
     },
     "execution_count": 3,
     "metadata": {},
     "output_type": "execute_result"
    }
   ],
   "source": [
    "def factorial(n):\n",
    "    if(n == 1):\n",
    "        return n\n",
    "    else:\n",
    "        return factorial(n-1)*n\n",
    "    \n",
    "factorial(5)"
   ]
  },
  {
   "cell_type": "markdown",
   "metadata": {},
   "source": [
    "### Problem 3: \n",
    "\n",
    "\n",
    "#### Problem Statment\n",
    "    Execute GCD function with and without using recursion .\n",
    "    \n",
    "#### Constraints\n",
    "    ----\n",
    "    \n",
    "#### Test Cases\n",
    "    ----"
   ]
  },
  {
   "cell_type": "code",
   "execution_count": 10,
   "metadata": {},
   "outputs": [
    {
     "data": {
      "text/plain": [
       "6"
      ]
     },
     "execution_count": 10,
     "metadata": {},
     "output_type": "execute_result"
    }
   ],
   "source": [
    "def GCD(a,b):\n",
    "    # GCD(a,b) = GCD(b%a, a)\n",
    "    #Using recursion\n",
    "    if(b%a == 0):\n",
    "        return a\n",
    "    else:\n",
    "        r = b % a\n",
    "        return GCD(r,a) \n",
    "        \n",
    "GCD(42,12)   "
   ]
  },
  {
   "cell_type": "code",
   "execution_count": 11,
   "metadata": {},
   "outputs": [
    {
     "data": {
      "text/plain": [
       "6"
      ]
     },
     "execution_count": 11,
     "metadata": {},
     "output_type": "execute_result"
    }
   ],
   "source": [
    "def GCD(a,b):\n",
    "    # Without using recursion (iterative solution).\n",
    "    r = b % a\n",
    "    while r != 0:\n",
    "        b = a\n",
    "        a = r\n",
    "    return a\n",
    "\n",
    "GCD(6,12)"
   ]
  },
  {
   "cell_type": "markdown",
   "metadata": {},
   "source": [
    "### Problem 4: \n",
    "\n",
    "\n",
    "#### Problem Statment\n",
    "    Execute Towers of Hanoi function using recursion.\n",
    "    \n",
    "#### Constraints\n",
    "    *Move only one disk at a time.\n",
    "    *Bigger disk cannot be placed on a smaller disk.\n",
    "    \n",
    "#### Test Cases\n",
    "    ----\n",
    "    \n",
    "#### Explanation\n",
    "\n",
    "* n disks ->\n",
    "    * move n-1 from source to tmep \n",
    "    * move nth disk from source to dest.\n",
    "    * move n-1 disks from temp to dest.\n",
    "* 3 disks ->\n",
    "     * move 2 disks from source to temp\n",
    "     * move 3rd disk from source to dest.\n",
    "     * move 2 disks from temp to dest.\n"
   ]
  },
  {
   "cell_type": "code",
   "execution_count": 9,
   "metadata": {},
   "outputs": [
    {
     "name": "stdout",
     "output_type": "stream",
     "text": [
      "Move  1  disk from  A  to  C\n",
      "Move  2  disk from  A  to  B\n",
      "Move  1  disk from  C  to  B\n",
      "Move  3  disk from  A  to  C\n",
      "Move  1  disk from  B  to  A\n",
      "Move  2  disk from  B  to  C\n",
      "Move  1  disk from  A  to  C\n"
     ]
    }
   ],
   "source": [
    "def towers_of_hanoi(n, source, temp, dest):\n",
    "    if n == 1:\n",
    "        print(\"Move \",n,\" disk from \",source,\" to \",dest)\n",
    "        return\n",
    "    else:\n",
    "        towers_of_hanoi(n-1,source,dest,temp)\n",
    "        print(\"Move \",n,\" disk from \",source,\" to \",dest)\n",
    "        towers_of_hanoi(n-1,temp,source,dest)\n",
    "        return\n",
    "    \n",
    "towers_of_hanoi(3,'A','B','C')    "
   ]
  },
  {
   "cell_type": "markdown",
   "metadata": {},
   "source": [
    "### Problem 5: \n",
    "\n",
    "\n",
    "#### Problem Statment\n",
    "    Generate the nth fibonacii number function using recursion.\n",
    "    \n",
    "#### Constraints\n",
    "    ----\n",
    "    \n",
    "#### Test Cases\n",
    "    ----"
   ]
  },
  {
   "cell_type": "code",
   "execution_count": 1,
   "metadata": {},
   "outputs": [
    {
     "data": {
      "text/plain": [
       "8"
      ]
     },
     "execution_count": 1,
     "metadata": {},
     "output_type": "execute_result"
    }
   ],
   "source": [
    "def fibonacii(n):\n",
    "    if n < 0:\n",
    "        print(\"Enter valid input.\")\n",
    "        return -1\n",
    "    elif n == 1:\n",
    "        return 0\n",
    "    elif n == 2:\n",
    "        return 1\n",
    "    else:\n",
    "        return fibonacii(n-1) + fibonacii(n-2)\n",
    "        \n",
    "\n",
    "fibonacii(7)"
   ]
  },
  {
   "cell_type": "markdown",
   "metadata": {},
   "source": [
    "### Problem 6: \n",
    "\n",
    "\n",
    "#### Problem Statment\n",
    "     Define a function to identify the number of times a substring is repeating in a given string\n",
    "    \n",
    "#### Constraints\n",
    "    ----\n",
    "    \n",
    "#### Test Cases\n",
    "   * substringCount('str', 'substr') -> 1\n",
    "   * substringCount('1234567891122334455', '3') -> 3\n",
    "   * substringCount('abccddccc', 'cc') -> 3\n",
    "   * substringCount('aaaaaaa', 'aaa' ) -> 5"
   ]
  },
  {
   "cell_type": "code",
   "execution_count": 12,
   "metadata": {},
   "outputs": [
    {
     "data": {
      "text/plain": [
       "1"
      ]
     },
     "execution_count": 12,
     "metadata": {},
     "output_type": "execute_result"
    }
   ],
   "source": [
    "def substringCount(a,key):\n",
    "    count = 0\n",
    "    l = len(key)\n",
    "    for i in range (0,len(a)-len(key) + 1):\n",
    "        if a[i:l] == key:\n",
    "            count += 1\n",
    "        l += 1\n",
    "    return count\n",
    "\n",
    "substringCount('substr', 'str')"
   ]
  },
  {
   "cell_type": "markdown",
   "metadata": {},
   "source": [
    "### Problem 7: \n",
    "\n",
    "\n",
    "#### Problem Statment\n",
    "    Define a function to merge the characters of two strings alternatively. The remaining characters of the longer string are printed in the same order at the end.\n",
    "    \n",
    "#### Constraints\n",
    "    ----\n",
    "    \n",
    "#### Test Cases\n",
    "    * mergeString('abcd', 'abcd') -> 'aabbccdd'\n",
    "    * mergeString('abc', '123456') -> 'a1b2c3456'\n",
    "    * mergeString('0', '123456') -> '0123456'\n"
   ]
  },
  {
   "cell_type": "code",
   "execution_count": 8,
   "metadata": {},
   "outputs": [
    {
     "data": {
      "text/plain": [
       "'aabbccddefg'"
      ]
     },
     "execution_count": 8,
     "metadata": {},
     "output_type": "execute_result"
    }
   ],
   "source": [
    "def mergeString(a,b):\n",
    "    i = len(a)\n",
    "    j = len(b)\n",
    "    s = ''\n",
    "    S#take space for assigning s as string\n",
    "    if i>j:\n",
    "        k = len(b)\n",
    "    elif(i == j):\n",
    "        k = len(a)\n",
    "    else:\n",
    "        k = len(a)\n",
    "        \n",
    "    for l in range(len(a)):\n",
    "        s += a[l] + b[l]\n",
    "    if i>j:\n",
    "        for l in range(j,i):\n",
    "            s += a[l]\n",
    "    elif i<j:\n",
    "        for l in range(i,j):\n",
    "            s += b[l]\n",
    "    return s\n",
    "mergeString('abcd', 'abcdefg')"
   ]
  },
  {
   "cell_type": "markdown",
   "metadata": {},
   "source": [
    "### Problem 8: \n",
    "\n",
    "\n",
    "#### Problem Statment\n",
    "    Define a function to convert a binary number to the corresponding       decimal number\n",
    "    \n",
    "#### Constraints\n",
    "    ----\n",
    "    \n",
    "#### Test Cases\n",
    "    * binaryToDecimal(1100) -> 12\n",
    "    * binaryToDecimal(1010) -> 10\n",
    "    * binaryToDecimal(111000) -> 56"
   ]
  },
  {
   "cell_type": "code",
   "execution_count": 12,
   "metadata": {},
   "outputs": [
    {
     "data": {
      "text/plain": [
       "12"
      ]
     },
     "execution_count": 12,
     "metadata": {},
     "output_type": "execute_result"
    }
   ],
   "source": [
    "def binaryToDecimal(n):\n",
    "    l = len(str(n))\n",
    "    sum = 0\n",
    "    for i in range (0,l):\n",
    "        rem = n%2\n",
    "        n = int(n/10)\n",
    "        sum += (rem*2**i)\n",
    "    return sum  \n",
    "\n",
    "binaryToDecimal(1100)"
   ]
  }
 ],
 "metadata": {
  "kernelspec": {
   "display_name": "Python 3",
   "language": "python",
   "name": "python3"
  },
  "language_info": {
   "codemirror_mode": {
    "name": "ipython",
    "version": 3
   },
   "file_extension": ".py",
   "mimetype": "text/x-python",
   "name": "python",
   "nbconvert_exporter": "python",
   "pygments_lexer": "ipython3",
   "version": "3.7.3"
  }
 },
 "nbformat": 4,
 "nbformat_minor": 2
}
