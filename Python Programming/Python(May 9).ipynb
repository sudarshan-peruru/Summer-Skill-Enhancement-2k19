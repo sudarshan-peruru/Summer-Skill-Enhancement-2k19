{
 "cells": [
  {
   "cell_type": "markdown",
   "metadata": {},
   "source": [
    "# Basic Problems\n",
    "\n",
    "\n",
    "### Day 6\n",
    "### 9 May 2019 \n",
    "### P. Sudarshan Kumar\n",
    "\n",
    "\n",
    "### Notes"
   ]
  },
  {
   "cell_type": "markdown",
   "metadata": {},
   "source": [
    "# day 4"
   ]
  },
  {
   "cell_type": "markdown",
   "metadata": {},
   "source": [
    "### Problem 1: \n",
    "\n",
    "\n",
    "#### Problem Statment\n",
    "Evaluate the polynomial\n",
    "    f(x)= x^3 + 2 X^2 + 3 X - 10\n",
    "    \n",
    "#### Constraints\n",
    "    Given x in the range [1, 1000]\n",
    "    \n",
    "#### Test Cases\n",
    "    ----"
   ]
  },
  {
   "cell_type": "code",
   "execution_count": 6,
   "metadata": {},
   "outputs": [
    {
     "data": {
      "text/plain": [
       "12"
      ]
     },
     "execution_count": 6,
     "metadata": {},
     "output_type": "execute_result"
    }
   ],
   "source": [
    "def polynomial(x):\n",
    "    if(1 <= x and x <= 1000):\n",
    "        return x**3 + 2*x**2 + 3*x - 10\n",
    "    else:\n",
    "        return False\n",
    "    \n",
    "polynomial(2)"
   ]
  },
  {
   "cell_type": "markdown",
   "metadata": {},
   "source": [
    "### Problem 2: \n",
    "\n",
    "\n",
    "#### Problem Statement\n",
    "    Determining whether a number is Even or Odd\n",
    "\n",
    "#### Constraints\n",
    "    ----\n",
    "\n",
    "#### Test Cases\n",
    "    ----"
   ]
  },
  {
   "cell_type": "code",
   "execution_count": 9,
   "metadata": {},
   "outputs": [
    {
     "data": {
      "text/plain": [
       "True"
      ]
     },
     "execution_count": 9,
     "metadata": {},
     "output_type": "execute_result"
    }
   ],
   "source": [
    "def even_or_odd(n):\n",
    "    if(n %2 == 0):\n",
    "        return True\n",
    "    else:\n",
    "        return False\n",
    "    \n",
    "even_or_odd(8)"
   ]
  },
  {
   "cell_type": "markdown",
   "metadata": {},
   "source": [
    "### Problem 3: \n",
    "\n",
    "\n",
    "#### Problem Statement\n",
    "    Finding the greatest of 3 numbers\n",
    "\n",
    "#### Constraints\n",
    "   ----\n",
    "\n",
    "#### Test Cases\n",
    "   ----"
   ]
  },
  {
   "cell_type": "code",
   "execution_count": 18,
   "metadata": {},
   "outputs": [
    {
     "name": "stdout",
     "output_type": "stream",
     "text": [
      "The greatest number is:  9\n"
     ]
    }
   ],
   "source": [
    "def greatest_of_3(n1,n2,n3):\n",
    "    if(n1 >= n2 and n1 >= n3):\n",
    "        print(\"The greatest number is: \",n1)\n",
    "    elif(n2 >= n1 and n2 >= n3):\n",
    "        print(\"The greatest number is: \" ,n2)\n",
    "    elif(n3 >= n1 and n3 >= n2):\n",
    "        print(\"The greatest number is: \",n3)\n",
    "        \n",
    "greatest_of_3(8,7,9)"
   ]
  },
  {
   "cell_type": "markdown",
   "metadata": {},
   "source": [
    "### Problem 4: \n",
    "\n",
    "\n",
    "#### Problem Statement\n",
    "    For a given number, check if it is divisible by 2 and 3 but not 4.\n",
    "\n",
    "#### Constraints\n",
    "    Given number will be in the range [1,1000000]\n",
    "\n",
    "#### Test Cases\n",
    "* CheckDivisibility(6) -> True\n",
    "* CheckDivisibility(16)-> False\n",
    "* CheckDivisibility(20)-> False"
   ]
  },
  {
   "cell_type": "code",
   "execution_count": 20,
   "metadata": {},
   "outputs": [
    {
     "data": {
      "text/plain": [
       "True"
      ]
     },
     "execution_count": 20,
     "metadata": {},
     "output_type": "execute_result"
    }
   ],
   "source": [
    "def checkDivisibility(n):\n",
    "    if(n % 2 == 0 and n % 3 == 0 and n % 4 != 0):\n",
    "        return True\n",
    "    else:\n",
    "        return False\n",
    "    \n",
    "checkDivisibility(6)   "
   ]
  },
  {
   "cell_type": "markdown",
   "metadata": {},
   "source": [
    "### Problem 5: \n",
    "\n",
    "\n",
    "#### Problem Statement\n",
    "    Given 2 ints, a and b, return True if one if them is 10 or if their sum is 10.\n",
    "\n",
    "#### Constraints\n",
    "    ----\n",
    "\n",
    "#### Test Cases\n",
    "* makes10(9, 10) → True\n",
    "* makes10(9, 9) → False\n",
    "* makes10(1, 9) → True"
   ]
  },
  {
   "cell_type": "code",
   "execution_count": 23,
   "metadata": {},
   "outputs": [
    {
     "data": {
      "text/plain": [
       "True"
      ]
     },
     "execution_count": 23,
     "metadata": {},
     "output_type": "execute_result"
    }
   ],
   "source": [
    "def makes10(a,b):\n",
    "    if(a == 10 or b == 10 or (a + b) == 10):\n",
    "        return True\n",
    "    else:\n",
    "        return False\n",
    "    \n",
    "makes10(2,8)"
   ]
  },
  {
   "cell_type": "markdown",
   "metadata": {},
   "source": [
    "### Problem 6: \n",
    "\n",
    "\n",
    "#### Problem Statement\n",
    "    Given 2 int values, return True if one is negative and one is positive. Except if the third parameter is True, then return True only if both are negative.\n",
    "#### Constraints\n",
    "    ----\n",
    "\n",
    "#### Test Cases\n",
    " * pos_neg(1, -1, False) → True\n",
    " * pos_neg(-1, 1, False) → True\n",
    " * pos_neg(-4, -5, True) → True\n",
    " * pos_neg(-1, 1, True) → False\n",
    " * pos_neg(1, 6, True) → False\n",
    " * pos_neg(-1, -9, False) → False     "
   ]
  },
  {
   "cell_type": "code",
   "execution_count": 36,
   "metadata": {
    "scrolled": true
   },
   "outputs": [
    {
     "data": {
      "text/plain": [
       "False"
      ]
     },
     "execution_count": 36,
     "metadata": {},
     "output_type": "execute_result"
    }
   ],
   "source": [
    "def pos_neg(a,b,n):\n",
    "    if((a<0 and b>0 and n == False) or (a>0 and b<0 and n == False) or (a<0 and b<0 and n == True)):\n",
    "        return True\n",
    "    else:\n",
    "        return False\n",
    "    #instead we can right \n",
    "        #return (a<0 and b>0 and n == False) or (a>0 and b<0 and n == False) or (a<0 and b<0 and n == True)\n",
    "\n",
    "pos_neg(-1, -9, False)"
   ]
  },
  {
   "cell_type": "code",
   "execution_count": 9,
   "metadata": {},
   "outputs": [
    {
     "data": {
      "text/plain": [
       "False"
      ]
     },
     "execution_count": 9,
     "metadata": {},
     "output_type": "execute_result"
    }
   ],
   "source": [
    "def pos_neg(a,b,n):\n",
    "        return (a<0 and b>0 and n == False) or (a>0 and b<0 and n == False) or (a<0 and b<0 and n == True)\n",
    "    \n",
    "pos_neg(-1, -9, False)"
   ]
  },
  {
   "cell_type": "markdown",
   "metadata": {},
   "source": [
    "### Problem 7: \n",
    "\n",
    "\n",
    "#### Problem Statement\n",
    "    Given an int n, return True if it is within 10 of 100 or 200. \n",
    "#### Constraints\n",
    "    Note: abs(num) computes the absolute value of a number.\n",
    "\n",
    "#### Test Cases\n",
    "* near_hundred(93) → True\n",
    "* near_hundred(90) → True\n",
    "* near_hundred(89) → False"
   ]
  },
  {
   "cell_type": "code",
   "execution_count": 35,
   "metadata": {},
   "outputs": [
    {
     "data": {
      "text/plain": [
       "False"
      ]
     },
     "execution_count": 35,
     "metadata": {},
     "output_type": "execute_result"
    }
   ],
   "source": [
    "def near_hundred(x):\n",
    "    return 90<=x<=110 or 190<=x<=210\n",
    "\n",
    "near_hundred(89)"
   ]
  },
  {
   "cell_type": "markdown",
   "metadata": {},
   "source": [
    "### Problem 8: \n",
    "\n",
    "\n",
    "#### Problem Statement\n",
    "    Create a Random Number Generator as a Procedure which takes the Range(lb, ub) and returns a Random number in the given range\n",
    "\n",
    "#### Constraints\n",
    "    ----\n",
    "#### Test Cases\n",
    "    RandomGenerator("
   ]
  },
  {
   "cell_type": "code",
   "execution_count": 45,
   "metadata": {},
   "outputs": [
    {
     "data": {
      "text/plain": [
       "49"
      ]
     },
     "execution_count": 45,
     "metadata": {},
     "output_type": "execute_result"
    }
   ],
   "source": [
    "from random import randrange\n",
    "def RandomGenerator(lb,ub):\n",
    "    return randrange(lb,ub,7)\n",
    "\n",
    "RandomGenerator(0,101)"
   ]
  },
  {
   "cell_type": "markdown",
   "metadata": {},
   "source": [
    "### Problem 9: \n",
    "\n",
    "\n",
    "#### Problem Statement\n",
    "    Given an Integer n, calculate the sum of n random numbers .\n",
    "\n",
    "#### Constraints\n",
    "    ----\n",
    "\n",
    "#### Test Cases\n",
    "    ----"
   ]
  },
  {
   "cell_type": "code",
   "execution_count": 46,
   "metadata": {},
   "outputs": [
    {
     "data": {
      "text/plain": [
       "46097184080749"
      ]
     },
     "execution_count": 46,
     "metadata": {},
     "output_type": "execute_result"
    }
   ],
   "source": [
    "import random\n",
    "def random_sum(n,lb,ub):\n",
    "    sum = 0\n",
    "    for count in range(1,n+1):\n",
    "        sum = sum + random.randint(lb,ub)\n",
    "    return sum\n",
    "\n",
    "random_sum(100,0,1000000000000)"
   ]
  },
  {
   "cell_type": "markdown",
   "metadata": {},
   "source": [
    "# day 6"
   ]
  },
  {
   "cell_type": "markdown",
   "metadata": {},
   "source": [
    "### Problem 10: \n",
    "\n",
    "\n",
    "#### Problem Statement\n",
    "    Design a function to perform Linear search on list of N unsorted numbers. It take an array and the key element to \n",
    "be searched and returns the index of the element of key element if found. Else returns -1\n",
    "\n",
    "#### Constraints\n",
    "    ----\n",
    "\n",
    "#### Test Cases\n",
    "* LinearSearch( a[5,4,3,2,1], 4) -> 2\n",
    "* LinearSearch( a[90, 123, 324, 21, 56], 22) -> -1"
   ]
  },
  {
   "cell_type": "code",
   "execution_count": 4,
   "metadata": {},
   "outputs": [
    {
     "data": {
      "text/plain": [
       "True"
      ]
     },
     "execution_count": 4,
     "metadata": {},
     "output_type": "execute_result"
    }
   ],
   "source": [
    "a = [90, 123, 324, 21, 56]\n",
    "\n",
    "123 in a\n",
    "#Returns yes or no only.  "
   ]
  },
  {
   "cell_type": "code",
   "execution_count": 8,
   "metadata": {},
   "outputs": [
    {
     "data": {
      "text/plain": [
       "1"
      ]
     },
     "execution_count": 8,
     "metadata": {},
     "output_type": "execute_result"
    }
   ],
   "source": [
    "a = [90, 123, 324, 21, 56]\n",
    "def LinearSearch(a,key):\n",
    "    count = 1\n",
    "    for count in range (1,len(a)):\n",
    "         if(key == a[count]):\n",
    "            return count \n",
    "    return -1\n",
    "\n",
    "LinearSearch(a,123)    \n",
    "# Returns postion of key if found."
   ]
  },
  {
   "cell_type": "markdown",
   "metadata": {},
   "source": [
    "### Problem 11: \n",
    "\n",
    "\n",
    "#### Problem Statement\n",
    "    Design a function to determine if a given string is a Palindrome\n",
    "\n",
    "#### Constraints\n",
    "    ----\n",
    "\n",
    "#### Test Cases\n",
    "* Palindrome(\"racecar\") -> True\n",
    "* Palindrome(\"raptor\") -> False"
   ]
  },
  {
   "cell_type": "code",
   "execution_count": 22,
   "metadata": {},
   "outputs": [
    {
     "data": {
      "text/plain": [
       "1"
      ]
     },
     "execution_count": 22,
     "metadata": {},
     "output_type": "execute_result"
    }
   ],
   "source": [
    "#a = \"\"\n",
    "def palindrome(a):\n",
    "   if(a == a[len(a)-1::-1]):\n",
    "        return True\n",
    "   else:\n",
    "        return False\n",
    "    \n",
    "palindrome(\"madam\")"
   ]
  },
  {
   "cell_type": "markdown",
   "metadata": {},
   "source": [
    "### Problem 12: \n",
    "\n",
    "\n",
    "#### Problem Statement\n",
    "    Design a function to calculate the squareroot of a number.\n",
    "\n",
    "#### Constraints\n",
    "    Without using the math function sqrt.\n",
    "\n",
    "#### Test Cases\n",
    "* Squareroot(36) -> 6"
   ]
  },
  {
   "cell_type": "code",
   "execution_count": 24,
   "metadata": {},
   "outputs": [
    {
     "data": {
      "text/plain": [
       "1.4142135623730951"
      ]
     },
     "execution_count": 24,
     "metadata": {},
     "output_type": "execute_result"
    }
   ],
   "source": [
    "def squareroot(n):\n",
    "    return n**0.5\n",
    "\n",
    "squareroot(2)"
   ]
  },
  {
   "cell_type": "markdown",
   "metadata": {},
   "source": [
    "# day 5"
   ]
  },
  {
   "cell_type": "markdown",
   "metadata": {},
   "source": [
    "### Problem 13: \n",
    "\n",
    "\n",
    "#### Problem Statement\n",
    "     Factorial of a given number as a procedure\n",
    "#### Constraints\n",
    "    ----\n",
    "\n",
    "#### Test Cases\n",
    "* Factorial(5) -> 120\n",
    "* Factorial (6) -> 720"
   ]
  },
  {
   "cell_type": "code",
   "execution_count": 31,
   "metadata": {},
   "outputs": [
    {
     "data": {
      "text/plain": [
       "120"
      ]
     },
     "execution_count": 31,
     "metadata": {},
     "output_type": "execute_result"
    }
   ],
   "source": [
    "def factorial(n):\n",
    "    count = 1\n",
    "    for temp in range (1,n+1):\n",
    "        count = count*temp\n",
    "    return count\n",
    "\n",
    "factorial(5)"
   ]
  },
  {
   "cell_type": "markdown",
   "metadata": {},
   "source": [
    "### Problem 14: \n",
    "\n",
    "\n",
    "#### Problem Statement\n",
    "     Procedure to print the list of factors of a given number.\n",
    "#### Constraints\n",
    "    ----\n",
    "\n",
    "#### Test Cases\n",
    "* FactorList(6)  ->  1 2 3 6\n",
    "* FactorList (9) ->   1 3 9\n",
    "* FactorList (19) ->  1  19"
   ]
  },
  {
   "cell_type": "code",
   "execution_count": 48,
   "metadata": {},
   "outputs": [
    {
     "name": "stdout",
     "output_type": "stream",
     "text": [
      "1 2 3 6 "
     ]
    }
   ],
   "source": [
    "def factor_list(n):\n",
    "    for i in range (1,n+1):\n",
    "        if(n%i == 0):\n",
    "            print(i,end = \" \")\n",
    "            \n",
    "factor_list(6)"
   ]
  },
  {
   "cell_type": "markdown",
   "metadata": {},
   "source": [
    "### Problem 15: \n",
    "\n",
    "\n",
    "#### Problem Statement\n",
    "     Procedure to check if a given number is Prime and returns a Boolean value.\n",
    "#### Constraints\n",
    "    ----\n",
    "\n",
    "#### Test Cases\n",
    "* IsPrime(7) -> True\n",
    "* IsPrime(9) ->  False\n",
    "\n"
   ]
  },
  {
   "cell_type": "code",
   "execution_count": 50,
   "metadata": {},
   "outputs": [
    {
     "data": {
      "text/plain": [
       "True"
      ]
     },
     "execution_count": 50,
     "metadata": {},
     "output_type": "execute_result"
    }
   ],
   "source": [
    "def is_prime(n):\n",
    "    for i in range (2,n//2):# using // returns int value after division\n",
    "        if( n%i == 0):\n",
    "            return False\n",
    "    return True\n",
    "\n",
    "is_prime(97)"
   ]
  },
  {
   "cell_type": "markdown",
   "metadata": {},
   "source": [
    "### Problem 16: \n",
    "\n",
    "\n",
    "#### Problem Statement\n",
    "     Procedure to count the number of digits in a given number.\n",
    "#### Constraints\n",
    "    ----\n",
    "\n",
    "#### Test Cases\n",
    "* CountDigits(123456) ->  6\n",
    "* CountDigits (0) ->  1"
   ]
  },
  {
   "cell_type": "code",
   "execution_count": 49,
   "metadata": {},
   "outputs": [
    {
     "data": {
      "text/plain": [
       "6"
      ]
     },
     "execution_count": 49,
     "metadata": {},
     "output_type": "execute_result"
    }
   ],
   "source": [
    "def count_digits(n):\n",
    "    return len(str(n))\n",
    "\n",
    "count_digits(123456)"
   ]
  },
  {
   "cell_type": "markdown",
   "metadata": {},
   "source": [
    "### Problem 17: \n",
    "\n",
    "\n",
    "#### Problem Statement\n",
    "     Procedure to check if a given number is a Perfect Number. \n",
    "#### Constraints\n",
    "    ----\n",
    "\n",
    "#### Test Cases\n",
    "* IsPerfect(3) -> False\n",
    "* IsPerfect (6) -> True"
   ]
  },
  {
   "cell_type": "code",
   "execution_count": 55,
   "metadata": {},
   "outputs": [
    {
     "data": {
      "text/plain": [
       "True"
      ]
     },
     "execution_count": 55,
     "metadata": {},
     "output_type": "execute_result"
    }
   ],
   "source": [
    "def is_perfect(n):\n",
    "    sum = 0\n",
    "    for i in range (1,n):\n",
    "        if(n%i == 0):\n",
    "           sum = sum + i \n",
    "    return sum == n\n",
    "\n",
    "is_perfect(496)"
   ]
  },
  {
   "cell_type": "markdown",
   "metadata": {},
   "source": [
    "### Problem 18: \n",
    "\n",
    "\n",
    "#### Problem Statement\n",
    "     Procedure to generate the first N perfect numbers. \n",
    "#### Constraints\n",
    "    ----\n",
    "\n",
    "#### Test Cases\n",
    "* GeneratePerfect(2) ->  6   28\n",
    "* GeneratePerfect (4) ->  6   28   496    8128"
   ]
  },
  {
   "cell_type": "code",
   "execution_count": null,
   "metadata": {},
   "outputs": [],
   "source": [
    "def generate(n):\n",
    "    j = 0\n",
    "    while j < n:\n",
    "        sum = 0\n",
    "        for i in range (1,n):\n",
    "            if(n%i == 0):\n",
    "               sum = sum + i \n",
    "        return sum == n\n",
    "        "
   ]
  }
 ],
 "metadata": {
  "kernelspec": {
   "display_name": "Python 3",
   "language": "python",
   "name": "python3"
  },
  "language_info": {
   "codemirror_mode": {
    "name": "ipython",
    "version": 3
   },
   "file_extension": ".py",
   "mimetype": "text/x-python",
   "name": "python",
   "nbconvert_exporter": "python",
   "pygments_lexer": "ipython3",
   "version": "3.7.3"
  }
 },
 "nbformat": 4,
 "nbformat_minor": 2
}
