{
 "cells": [
  {
   "cell_type": "markdown",
   "metadata": {},
   "source": [
    "# Hackathon\n",
    "\n",
    "### 14 May 2019 \n",
    "\n"
   ]
  },
  {
   "cell_type": "markdown",
   "metadata": {},
   "source": [
    "### Problem 1: \n",
    "\n",
    "\n",
    "#### Problem Statement\n",
    "     For a given integer N, find the total number of  Non - Prime Factors in the range (1, N) (both exclusive) that do not contain the digit 0\n",
    "#### Constraints\n",
    "    ----\n",
    "\n",
    "#### Test Cases\n",
    "    * nonPrimeFactorsCount( 100 ) -> 2\n",
    "    * nonPrimeFactorsCount( 50 )  -> 1 \n"
   ]
  },
  {
   "cell_type": "code",
   "execution_count": 42,
   "metadata": {
    "scrolled": true
   },
   "outputs": [
    {
     "name": "stdout",
     "output_type": "stream",
     "text": [
      "1\n",
      "2\n",
      "4\n",
      "5\n",
      "10\n",
      "20\n",
      "25\n",
      "50\n",
      "[4, 25]\n"
     ]
    },
    {
     "data": {
      "text/plain": [
       "2"
      ]
     },
     "execution_count": 42,
     "metadata": {},
     "output_type": "execute_result"
    }
   ],
   "source": [
    "def main(n):\n",
    "    a = []\n",
    "    b = []\n",
    "    count = 0\n",
    "    for i in range (1,(n//2)+1):\n",
    "        if (n%i == 0):\n",
    "            print(i)\n",
    "            a.append(i)\n",
    "    for j in range (0,len(a)):\n",
    "        for k in range (2,a[j]):\n",
    "            if (a[j]%k == 0 and a[j]%10 != 0):\n",
    "                \n",
    "                b.append(a[j])\n",
    "               \n",
    "                count = count + 1\n",
    "    print(b)          \n",
    "    return count\n",
    "\n",
    "main(100)"
   ]
  },
  {
   "cell_type": "markdown",
   "metadata": {},
   "source": [
    "### Problem 2: \n",
    "\n",
    "\n",
    "#### Problem Statement\n",
    "     For a given integer N. Find the least positive integer X made up of only 9's and 0's, such that, X is a multiple of N.\n",
    "\n",
    "    X is made up of one or more occurrences of 9 and zero or more occurrences of 0.\n",
    "#### Constraints\n",
    "    ----\n",
    "\n",
    "#### Test Cases\n",
    "    * Multiple( 5 )  -> 90\n",
    "    * Multiple ( 7 )  -> 9009\n",
    "    * Multiple( 1 )  -> 9"
   ]
  },
  {
   "cell_type": "code",
   "execution_count": null,
   "metadata": {},
   "outputs": [],
   "source": [
    "def main(n):\n",
    "    i = 1\n",
    "    a[0] = 0\n",
    "    for i in range (0,10000):\n",
    "        a[i] = n*i\n",
    "        \n",
    "    for k in range (1,len(a[i])):\n",
    "        if (a[i]%10 == 0 or 9):\n",
    "    return a[i] "
   ]
  }
 ],
 "metadata": {
  "kernelspec": {
   "display_name": "Python 3",
   "language": "python",
   "name": "python3"
  },
  "language_info": {
   "codemirror_mode": {
    "name": "ipython",
    "version": 3
   },
   "file_extension": ".py",
   "mimetype": "text/x-python",
   "name": "python",
   "nbconvert_exporter": "python",
   "pygments_lexer": "ipython3",
   "version": "3.7.3"
  }
 },
 "nbformat": 4,
 "nbformat_minor": 2
}
