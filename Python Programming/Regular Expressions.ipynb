{
 "cells": [
  {
   "cell_type": "markdown",
   "metadata": {},
   "source": [
    "### Regular Expressions\n",
    "   A set of all possible values that satisfy a given pattern\n",
    "   \n",
    "0123456789\n",
    "[0-9]\n",
    "[a-z]\n",
    "[A-Z]\n",
    "^s*\n",
    "    # starts with (^)\n",
    "    # can have anything afterwards (*)\n",
    "    # ends with ($)\n",
    "    # number of characters (....) -> any no. of characters\n",
    "    # number of characters ({num}) "
   ]
  },
  {
   "cell_type": "code",
   "execution_count": 5,
   "metadata": {},
   "outputs": [
    {
     "name": "stdout",
     "output_type": "stream",
     "text": [
      "Valid\n"
     ]
    }
   ],
   "source": [
    "import re\n",
    "\n",
    "pattern = '^g....'\n",
    "#pattern = '^g.' gives valid\n",
    "#pattern = '^g*' gives valid\n",
    "#pattern = '^g....$' gives invalid\n",
    "domain = 'gmails'\n",
    "result = re.match(pattern,domain)\n",
    "if(result):\n",
    "    print(\"Valid\")\n",
    "else:\n",
    "    print(\"Invalid\")"
   ]
  },
  {
   "cell_type": "code",
   "execution_count": 7,
   "metadata": {},
   "outputs": [
    {
     "name": "stdout",
     "output_type": "stream",
     "text": [
      "Valid\n"
     ]
    }
   ],
   "source": [
    "import re\n",
    "\n",
    "pattern = '^[a-z]{2}'\n",
    "    #pattern = '^[a-z]{2}' first 2 characters should be in range a-z \n",
    "    # pattern = '^[a-z]{2}$' only accepts 2 characters in the range a-z\n",
    "domain = 'gwadfd'\n",
    "result = re.match(pattern,domain)\n",
    "if(result):\n",
    "    print(\"Valid\")\n",
    "else:\n",
    "    print(\"Invalid\")"
   ]
  },
  {
   "cell_type": "code",
   "execution_count": 13,
   "metadata": {},
   "outputs": [
    {
     "name": "stdout",
     "output_type": "stream",
     "text": [
      "Valid\n"
     ]
    }
   ],
   "source": [
    "import re\n",
    "\n",
    "pattern = '^[a-z]{3,9}$'\n",
    "    # no. of characters should be bt. 3 and 9 and in the range a-z\n",
    "domain = 'gwwssxze'\n",
    "result = re.match(pattern,domain)\n",
    "if(result):\n",
    "    print(\"Valid\")\n",
    "else:\n",
    "    print(\"Invalid\")"
   ]
  },
  {
   "cell_type": "code",
   "execution_count": 16,
   "metadata": {},
   "outputs": [
    {
     "name": "stdout",
     "output_type": "stream",
     "text": [
      "Valid\n"
     ]
    }
   ],
   "source": [
    "import re\n",
    "\n",
    "postalCodePattern = '^[1-9][0-9]{5}$'\n",
    "    # no. of characters should be bt. 3 and 9 and in the range a-z\n",
    "postalCode = '500049'\n",
    "result = re.match(postalCodePattern,postalCode)\n",
    "if(result):\n",
    "    print(\"Valid\")\n",
    "else:\n",
    "    print(\"Invalid\")"
   ]
  },
  {
   "cell_type": "code",
   "execution_count": 20,
   "metadata": {},
   "outputs": [
    {
     "name": "stdout",
     "output_type": "stream",
     "text": [
      "Valid\n"
     ]
    }
   ],
   "source": [
    "import re\n",
    "\n",
    "phoneNumberPattern = '^[+][9][1][ ][6-9][0-9]{9}$'\n",
    "    # no. of characters should be bt. 3 and 9 and in the range a-z\n",
    "phoneNumber = '+91 8885520185'\n",
    "result = re.match(phoneNumberPattern,phoneNumber)\n",
    "if(result):\n",
    "    print(\"Valid\")\n",
    "else:\n",
    "    print(\"Invalid\")"
   ]
  },
  {
   "cell_type": "code",
   "execution_count": 21,
   "metadata": {},
   "outputs": [
    {
     "name": "stdout",
     "output_type": "stream",
     "text": [
      "Valid\n"
     ]
    }
   ],
   "source": [
    "import re\n",
    "\n",
    "emailPattern = '^[a-z][a-z0-9-_.]{5,13}[a-z0-9][@][a-z0-9]{3,9}[.][a-z]{2,4}$'\n",
    "    # no. of characters should be bt. 3 and 9 and in the range a-z\n",
    "email = 'facebook@gmial.com'\n",
    "result = re.match(phoneNumberPattern,phoneNumber)\n",
    "if(result):\n",
    "    print(\"Valid\")\n",
    "else:\n",
    "    print(\"Invalid\")"
   ]
  },
  {
   "cell_type": "code",
   "execution_count": null,
   "metadata": {},
   "outputs": [],
   "source": [
    "import re\n",
    "\n",
    "passwordPattern = '^[a-z][a-z0-9-_.]{5,13}[a-z0-9][@][a-z0-9]{3,9}[.][a-z]{2,4}$'\n",
    "    # no. of characters should be bt. 3 and 9 and in the range a-z\n",
    "password = 'facebook@gmial.com'\n",
    "result = re.match(passwordPattern,password)\n",
    "if(result):\n",
    "    print(\"Valid\")\n",
    "else:\n",
    "    print(\"Invalid\")"
   ]
  }
 ],
 "metadata": {
  "kernelspec": {
   "display_name": "Python 3",
   "language": "python",
   "name": "python3"
  },
  "language_info": {
   "codemirror_mode": {
    "name": "ipython",
    "version": 3
   },
   "file_extension": ".py",
   "mimetype": "text/x-python",
   "name": "python",
   "nbconvert_exporter": "python",
   "pygments_lexer": "ipython3",
   "version": "3.7.3"
  }
 },
 "nbformat": 4,
 "nbformat_minor": 2
}
