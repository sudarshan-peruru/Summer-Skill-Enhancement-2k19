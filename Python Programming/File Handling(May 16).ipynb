{
 "cells": [
  {
   "cell_type": "markdown",
   "metadata": {},
   "source": [
    "# File Handling"
   ]
  },
  {
   "cell_type": "markdown",
   "metadata": {},
   "source": [
    "### Day 13\n",
    "\n",
    "### 16 May 2019\n",
    "\n",
    "### P. Sudarshan Kumar"
   ]
  },
  {
   "cell_type": "markdown",
   "metadata": {},
   "source": [
    "### Notes"
   ]
  },
  {
   "cell_type": "markdown",
   "metadata": {},
   "source": [
    "### Session Plan\n"
   ]
  },
  {
   "cell_type": "markdown",
   "metadata": {},
   "source": [
    "### Problem 1: \n",
    "\n",
    "\n",
    "#### Problem Statement\n",
    "    Define functions to read and write data from a text file. \n",
    "    \n",
    "#### Constraints\n",
    "\n",
    "#### Test Cases\n"
   ]
  },
  {
   "cell_type": "code",
   "execution_count": 7,
   "metadata": {},
   "outputs": [
    {
     "data": {
      "text/plain": [
       "'Data in line 1\\nData in line 2\\nData in line 3'"
      ]
     },
     "execution_count": 7,
     "metadata": {},
     "output_type": "execute_result"
    }
   ],
   "source": [
    "def readFileData(filename):\n",
    "    f = open(filename,'r')\n",
    "    #filedata = f.readline()  ->   reads first line\n",
    "    #filedata += f.readline() ->   reads the next line\n",
    "    filedata = f.read()\n",
    "    f.close()\n",
    "    return filedata\n",
    "\n",
    "readFileData('DataFiles/data.txt')"
   ]
  },
  {
   "cell_type": "code",
   "execution_count": 8,
   "metadata": {},
   "outputs": [
    {
     "data": {
      "text/plain": [
       "'Data in line 1\\nData in line 2\\nData in line 3'"
      ]
     },
     "execution_count": 8,
     "metadata": {},
     "output_type": "execute_result"
    }
   ],
   "source": [
    "def readFileData(filename):\n",
    "    with open(filename,'r') as f:\n",
    "        filedata = f.read()\n",
    "            #efficient way to do file operations\n",
    "    return filedata\n",
    "\n",
    "readFileData('DataFiles/data.txt')"
   ]
  },
  {
   "cell_type": "code",
   "execution_count": 11,
   "metadata": {},
   "outputs": [
    {
     "name": "stdout",
     "output_type": "stream",
     "text": [
      "Data in line 1\n",
      "Data in line 2\n",
      "Data in line 3"
     ]
    }
   ],
   "source": [
    "def readFileData(filename):\n",
    "    with open(filename,'r') as f:\n",
    "        for line in f:\n",
    "            print(line,end = '')\n",
    "                #efficient way to do file operations(\\n is converted into new line)\n",
    "    return \n",
    "\n",
    "readFileData('DataFiles/data.txt')"
   ]
  },
  {
   "cell_type": "code",
   "execution_count": 12,
   "metadata": {},
   "outputs": [
    {
     "name": "stdout",
     "output_type": "stream",
     "text": [
      "Data in line 1\n",
      "Data in line 2\n",
      "Data in line 3\n"
     ]
    }
   ],
   "source": [
    "def readFileData(filename):\n",
    "    with open(filename,'r') as f:\n",
    "        print(f.read())\n",
    "                #no need to use for loop(we can directly print)\n",
    "    return \n",
    "\n",
    "readFileData('DataFiles/data.txt')"
   ]
  },
  {
   "cell_type": "code",
   "execution_count": 18,
   "metadata": {},
   "outputs": [],
   "source": [
    "def writeIntoFile(filename, data, mode):\n",
    "    with open(filename,mode) as f:\n",
    "        f.write(data)\n",
    "    return\n",
    "                #a is append which is used to append given data to exsiting data\n",
    "writeIntoFile('DataFiles/fileWrite.txt','\\nThis is second line.','a')"
   ]
  },
  {
   "cell_type": "markdown",
   "metadata": {},
   "source": [
    "### Problem 2: \n",
    "\n",
    "\n",
    "#### Problem Statement\n",
    "      Define a function to generate a marks data file(text file) for 1300 students such that each mark is entered  in a new line. Marks range from 0 to 100 (inclusive ) as random numbers.\n",
    "#### Constraints\n",
    "\n",
    "#### Test Cases\n"
   ]
  },
  {
   "cell_type": "code",
   "execution_count": 27,
   "metadata": {},
   "outputs": [],
   "source": [
    "from random import randrange\n",
    "\n",
    "def generateMarks(filename):\n",
    "    with open(filename,'w') as f:\n",
    "        for i in range (0,1300):\n",
    "            f.write(str(randrange(0,101)))\n",
    "            f.write('\\n')\n",
    "    return\n",
    "generateMarks('DataFiles/Marks.txt')"
   ]
  },
  {
   "cell_type": "markdown",
   "metadata": {},
   "source": [
    "### Problem 3: \n",
    "\n",
    "\n",
    "#### Problem Statement\n",
    "      Generate a report on the marks data with the following indicators\n",
    "          * Highest Mark :\n",
    "          * Lowest Mark :\n",
    "          * Average Mark :\n",
    "          * No. of students with distinction(>80) :\n",
    "          * No. of students with first class(>70) :\n",
    "          * No. of students with second class(>60) :\n",
    "          * No. of students with third class(>40) :\n",
    "          * No. of students failed(<40) :\n",
    "#### Constraints\n",
    "\n",
    "#### Test Cases"
   ]
  },
  {
   "cell_type": "code",
   "execution_count": 235,
   "metadata": {
    "scrolled": false
   },
   "outputs": [
    {
     "name": "stdout",
     "output_type": "stream",
     "text": [
      "0.00013280000007398485\n",
      "***  REPORT  ***\n",
      "\n",
      "\n",
      "Highest Mark : 100\n",
      "Lowest Mark : 0\n",
      "Average Mark : 51\n",
      "No. of students with distinction(>80) : 296\n",
      "No. of students with first class(>70) : 290\n",
      "No. of students with second class(>60) : 413\n",
      "No. of students with third class(>40) : 548\n",
      "No. of students failed(<40) : 509\n"
     ]
    }
   ],
   "source": [
    "import timeit\n",
    "\n",
    "def report(filename):\n",
    "    li = []\n",
    "    '''d = 0\n",
    "    fi = 0\n",
    "    s = 0\n",
    "    t = 0\n",
    "    fail =  0'''\n",
    "    with open(filename,'r') as f:\n",
    "        for line in f:\n",
    "            li.append(int(line))\n",
    "        total = sum(li)\n",
    "        number = len(li)\n",
    "        avg = total//number\n",
    "        maximum = max(li)\n",
    "        minimum = min(li)\n",
    "        '''for k in li:\n",
    "            if(k > 80):\n",
    "                d = d + 1\n",
    "            elif(k > 70):\n",
    "                fi = fi + 1 \n",
    "            elif(k > 60):\n",
    "                s = s + 1\n",
    "            elif(k > 40):\n",
    "                t = t + 1\n",
    "            else:\n",
    "                fail = fail + 1'''\n",
    "        dis = sum(map(distinction,li))\n",
    "        fi = sum(map(first,li))\n",
    "        se = sum(map(second,li))\n",
    "        th = sum(map(third,li))\n",
    "        fail = sum(map(failed,li))\n",
    "        \n",
    "        print(\"***  REPORT  ***\\n\\n\")\n",
    "        print(\"Highest Mark :\",maximum)\n",
    "        print(\"Lowest Mark :\",minimum)\n",
    "        print(\"Average Mark :\",avg)\n",
    "        print(\"No. of students with distinction(>80) :\",dis)\n",
    "        print(\"No. of students with first class(>70) :\",fi)\n",
    "        print(\"No. of students with second class(>60) :\",se)\n",
    "        print(\"No. of students with third class(>40) :\",th)\n",
    "        print(\"No. of students failed(<40) :\",fail)\n",
    "    return \n",
    "def distinction(mark):\n",
    "    return mark >= 80\n",
    "def first(mark):\n",
    "    return 80 < mark >= 70\n",
    "def second(mark):\n",
    "    return 70 < mark >= 60\n",
    "def third(mark):\n",
    "    return 60 < mark >= 40\n",
    "def failed(mark):\n",
    "    return mark < 40\n",
    "st = timeit.default_timer()\n",
    "print(timeit.default_timer() - st)\n",
    "report('DataFiles/Marks.txt')"
   ]
  },
  {
   "cell_type": "code",
   "execution_count": 3,
   "metadata": {},
   "outputs": [
    {
     "ename": "NameError",
     "evalue": "name 'marksdata' is not defined",
     "output_type": "error",
     "traceback": [
      "\u001b[1;31m---------------------------------------------------------------------------\u001b[0m",
      "\u001b[1;31mNameError\u001b[0m                                 Traceback (most recent call last)",
      "\u001b[1;32m<ipython-input-3-22f6a9122c9e>\u001b[0m in \u001b[0;36m<module>\u001b[1;34m\u001b[0m\n\u001b[0;32m      1\u001b[0m \u001b[1;32mdef\u001b[0m \u001b[0mdistinction\u001b[0m\u001b[1;33m(\u001b[0m\u001b[0mmark\u001b[0m\u001b[1;33m)\u001b[0m\u001b[1;33m:\u001b[0m\u001b[1;33m\u001b[0m\u001b[1;33m\u001b[0m\u001b[0m\n\u001b[0;32m      2\u001b[0m     \u001b[1;32mreturn\u001b[0m \u001b[0mmark\u001b[0m \u001b[1;33m>=\u001b[0m \u001b[1;36m80\u001b[0m\u001b[1;33m\u001b[0m\u001b[1;33m\u001b[0m\u001b[0m\n\u001b[1;32m----> 3\u001b[1;33m \u001b[0mfailed\u001b[0m \u001b[1;33m=\u001b[0m \u001b[0msum\u001b[0m\u001b[1;33m(\u001b[0m\u001b[1;33m[\u001b[0m\u001b[1;36m1\u001b[0m \u001b[1;32mfor\u001b[0m \u001b[0mi\u001b[0m \u001b[1;32min\u001b[0m \u001b[0mmarksdata\u001b[0m \u001b[1;32mif\u001b[0m \u001b[0mi\u001b[0m\u001b[1;33m<\u001b[0m\u001b[1;36m40\u001b[0m\u001b[1;33m]\u001b[0m\u001b[1;33m)\u001b[0m\u001b[1;33m\u001b[0m\u001b[1;33m\u001b[0m\u001b[0m\n\u001b[0m\u001b[0;32m      4\u001b[0m \u001b[1;33m\u001b[0m\u001b[0m\n\u001b[0;32m      5\u001b[0m \u001b[0mdis\u001b[0m \u001b[1;33m=\u001b[0m \u001b[0msum\u001b[0m\u001b[1;33m(\u001b[0m\u001b[0mmap\u001b[0m\u001b[1;33m(\u001b[0m\u001b[0mdistinciton\u001b[0m\u001b[1;33m,\u001b[0m\u001b[0mmarksdata\u001b[0m\u001b[1;33m)\u001b[0m\u001b[1;33m)\u001b[0m \u001b[1;31m# map is more efficient than list\u001b[0m\u001b[1;33m\u001b[0m\u001b[1;33m\u001b[0m\u001b[0m\n",
      "\u001b[1;31mNameError\u001b[0m: name 'marksdata' is not defined"
     ]
    }
   ],
   "source": [
    "def distinction(mark):\n",
    "    return mark >= 80\n",
    "failed = sum([1 for i in marksdata if i<40])\n",
    "\n",
    "dis = sum(map(distinciton,marksdata)) # map is more efficient than list"
   ]
  },
  {
   "cell_type": "markdown",
   "metadata": {},
   "source": [
    "### Problem 3: \n",
    "\n",
    "\n",
    "#### Problem Statement\n",
    "    Map Example\n",
    "#### Test Cases"
   ]
  },
  {
   "cell_type": "code",
   "execution_count": 12,
   "metadata": {},
   "outputs": [
    {
     "name": "stdout",
     "output_type": "stream",
     "text": [
      "0.00010620000000116647\n"
     ]
    },
    {
     "data": {
      "text/plain": [
       "[1.0, 4.0, 9.0, 16.0, 25.0, 36.0]"
      ]
     },
     "execution_count": 12,
     "metadata": {},
     "output_type": "execute_result"
    }
   ],
   "source": [
    "import timeit\n",
    "def square(n):\n",
    "    return n*n\n",
    "st = timeit.default_timer()\n",
    "\n",
    "li = [1, 2, 3, 4, 5, 6]\n",
    "s = list(map(square,li)) # converts list into list of strings\n",
    "s = [float(i) for i in s]\n",
    "print(timeit.default_timer() - st)\n",
    "s"
   ]
  },
  {
   "cell_type": "code",
   "execution_count": null,
   "metadata": {},
   "outputs": [],
   "source": []
  }
 ],
 "metadata": {
  "kernelspec": {
   "display_name": "Python 3",
   "language": "python",
   "name": "python3"
  },
  "language_info": {
   "codemirror_mode": {
    "name": "ipython",
    "version": 3
   },
   "file_extension": ".py",
   "mimetype": "text/x-python",
   "name": "python",
   "nbconvert_exporter": "python",
   "pygments_lexer": "ipython3",
   "version": "3.7.3"
  }
 },
 "nbformat": 4,
 "nbformat_minor": 2
}
