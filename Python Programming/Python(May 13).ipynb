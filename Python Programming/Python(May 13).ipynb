{
 "cells": [
  {
   "cell_type": "markdown",
   "metadata": {},
   "source": [
    "# Problem Solving in Python\n",
    "\n",
    "\n",
    "### Day 10\n",
    "### 13 May 2019 \n",
    "### P. Sudarshan Kumar"
   ]
  },
  {
   "cell_type": "markdown",
   "metadata": {},
   "source": [
    "### Problem 1: \n",
    "\n",
    "\n",
    "#### Problem Statment\n",
    "    You are given n words. Some words may repeat. For each word, output its number of occurrences. The output order should correspond with the input order of appearance of the word. \n",
    "    First line of input contains the total number of words n. Next n lines contain words that need to processed.\n",
    "\n",
    "    First line of the output should contain the total number distinct words. Second line of output must contain the frequency of words the same order of their appearance as in the input\n",
    "    \n",
    "#### Constraints\n",
    "    ----\n",
    "    \n",
    "#### Test Cases\n",
    "    Sample Input :  6\n",
    "\n",
    "        * abcd\n",
    "\n",
    "        * ijkl\n",
    "\n",
    "        * abcd\n",
    "\n",
    "        * pqrs\n",
    "\n",
    "        * abcd\n",
    "\n",
    "        ijkl\n",
    "\n",
    "Sample Output :   3\n",
    "\n",
    "3  2   1"
   ]
  },
  {
   "cell_type": "code",
   "execution_count": 6,
   "metadata": {},
   "outputs": [
    {
     "name": "stdout",
     "output_type": "stream",
     "text": [
      "4\n",
      "2 1 1 2 "
     ]
    }
   ],
   "source": [
    "def uniquearray(a):\n",
    "    u = []\n",
    "    u.append(a[0])\n",
    "    for x in a:\n",
    "        if x not in u:\n",
    "            u.append(x)\n",
    "    return u\n",
    "\n",
    "def frequency(n,a):\n",
    "    u = uniquearray(a)\n",
    "    print(len(u),end='\\n')\n",
    "    j = 0\n",
    "    for i in range (0,len(u)):\n",
    "        count = 0\n",
    "        for j in range (0,len(a)):\n",
    "            if(a[i] == a[j]):\n",
    "                count = count + 1\n",
    "        print(count,end = ' ')\n",
    "        \n",
    "frequency(6,['abcd','efgh','pqrs','abcd','ijkl','ijkl'])"
   ]
  },
  {
   "cell_type": "markdown",
   "metadata": {},
   "source": [
    "### Problem 2: \n",
    "\n",
    "\n",
    "#### Problem Statment\n",
    "    Define a function to validate email addresses based on the following rules.\n",
    "\n",
    "* Email should be in the format username@domain.extension\n",
    "* username must start with an alphabet and can contain lowercase alphabet, digits, hyphen(-) and underscores( _ ).\n",
    "* username must not contain special characters, uppercase letters, whitespaces.\n",
    "* Length of username must be in the range (6, 16)\n",
    "* Domain can only contain lowercase alphabet and digits with length in range (3, 10) . No special characters are allowed\n",
    "* Extension can only contain lower case alphabet and its length must be in the range (2, 4)\n",
    "* First line of input contains total number of email addresses n.  Next n lines contain  n email addresses.\n",
    "\n",
    "Output must contain contain  n  lines with either 'Valid' or 'Invalid'\n",
    "    \n",
    "#### Constraints\n",
    "    ----\n",
    "    \n",
    "#### Test Cases\n",
    "   Sample Input :  6\n",
    "\n",
    "    * abc456@gmail.com\n",
    "\n",
    "    * 456abc@yahoo.com\n",
    "\n",
    "    * abc_456@gitam.ed1\n",
    "\n",
    "    * abc-456@abc-d.in\n",
    "\n",
    "    * python@python.edu\n",
    "\n",
    "    * abc 456@edu.edu\n",
    "\n",
    "Sample Output :   Valid\n",
    "\n",
    "    * Invalid\n",
    "\n",
    "    * Invalid\n",
    "\n",
    "    * Invalid\n",
    "\n",
    "    * Valid\n",
    "\n",
    "    * Invalid\n",
    "\n"
   ]
  },
  {
   "cell_type": "code",
   "execution_count": 7,
   "metadata": {},
   "outputs": [
    {
     "name": "stdout",
     "output_type": "stream",
     "text": [
      "valid\n",
      "invalid\n",
      "invalid\n",
      "invalid\n",
      "valid\n",
      "invalid\n"
     ]
    }
   ],
   "source": [
    "def email(a):\n",
    "    l1=[chr(x) for x in range(97,123)]\n",
    "    l2=[chr(x) for x in range(65,95) ]\n",
    "    l3=['/','`']\n",
    "    l4=[chr(x) for x in range(32,45)]\n",
    "    l5=[chr(x) for x in range(58,65)]\n",
    "    l6=[chr(x) for x in range(123,127)]\n",
    "    l7=[chr(x) for x in range(48,58)]\n",
    "    \n",
    "        \n",
    "    if '@' not in a or '.' not in a:\n",
    "        return 'invalid'\n",
    "    u=a[0:a.index('@')]\n",
    "    d=a[a.index('@')+1:a.index('.')]\n",
    "    e=a[a.index('.')+1:]\n",
    "    if a[0] not in l1:\n",
    "        return 'invalid'\n",
    "    for x in u:\n",
    "        if x in l2 or x in l3 or x in l4 or x in l5 or x in l6:\n",
    "            return 'invalid'\n",
    "    if len(u)<6 and len(u)>15:\n",
    "        return 'invalid'\n",
    "    if len(d)<3 and len(d)>9:\n",
    "        return 'invalid'\n",
    "    for x in d:\n",
    "        if x not in l1 and x not in l7:\n",
    "            return 'invalid'\n",
    "    if len(e)<2 and len(e)>3:\n",
    "        return 'invalid'\n",
    "    for x in e:\n",
    "        if x not in l1:\n",
    "            return 'invalid'\n",
    "    return 'valid'\n",
    "a=['abc456@gmail.com','456abc@yahoo.com','abc_456@gitam.ed1','abc-456@abc-d.in','python@python.edu','abc 456@edu.edu']\n",
    "for i in range(0,6):\n",
    "    print(email(a[i]))"
   ]
  },
  {
   "cell_type": "code",
   "execution_count": null,
   "metadata": {},
   "outputs": [],
   "source": []
  }
 ],
 "metadata": {
  "kernelspec": {
   "display_name": "Python 3",
   "language": "python",
   "name": "python3"
  },
  "language_info": {
   "codemirror_mode": {
    "name": "ipython",
    "version": 3
   },
   "file_extension": ".py",
   "mimetype": "text/x-python",
   "name": "python",
   "nbconvert_exporter": "python",
   "pygments_lexer": "ipython3",
   "version": "3.7.3"
  }
 },
 "nbformat": 4,
 "nbformat_minor": 2
}
