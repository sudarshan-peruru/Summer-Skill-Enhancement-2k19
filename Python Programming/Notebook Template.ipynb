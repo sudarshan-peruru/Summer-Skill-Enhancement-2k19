{
 "cells": [
  {
   "cell_type": "markdown",
   "metadata": {},
   "source": [
    "# Template"
   ]
  },
  {
   "cell_type": "markdown",
   "metadata": {},
   "source": [
    "### Day 5\n",
    "### 8 May 2019 \n",
    "### P. Sudarshan Kumar"
   ]
  },
  {
   "cell_type": "markdown",
   "metadata": {},
   "source": [
    "### Notes"
   ]
  },
  {
   "cell_type": "markdown",
   "metadata": {},
   "source": [
    "### Session Plan\n",
    "* Practicing Python Syntax in the Interactive Shell\n",
    "  * Print Function - print()\n",
    "  * Variable Assignment(Single Variable, Multiple Variables)\n",
    "  * Getting the Data Types using type()\n",
    "  * String Slicing\n",
    "  * Lists\n",
    "  * Tuples\n",
    "  * Dictionaries\n",
    "  * Reading input from user\n",
    "* Jupyter Notebooks \n",
    "  * Overview, Architecture\n",
    "  * Standard Template\n",
    "  * Markdown Syntax\n",
    "* Problem Set\n",
    "  * Data Processing  "
   ]
  },
  {
   "cell_type": "markdown",
   "metadata": {},
   "source": [
    "### Problem 1: \n",
    "\n",
    "\n",
    "#### Problem Statement\n",
    "    For a given number, check if it is divisible by 2 and 3 but not 4.\n",
    "\n",
    "#### Constraints\n",
    "    Given number will be in the range [1,1000000]\n",
    "\n",
    "#### Test Cases\n",
    "* CheckDivisibility(6) -> True\n",
    "* CheckDivisibility(16)-> False\n",
    "* CheckDivisibility(20)-> False"
   ]
  },
  {
   "cell_type": "code",
   "execution_count": 3,
   "metadata": {},
   "outputs": [
    {
     "data": {
      "text/plain": [
       "False"
      ]
     },
     "execution_count": 3,
     "metadata": {},
     "output_type": "execute_result"
    }
   ],
   "source": [
    "def checkDivisibility(n):\n",
    "    if(n % 2 == 0 and n % 3 == 0 and n % 4 != 0):\n",
    "        return True\n",
    "    else:\n",
    "        return False\n",
    "checkDivisibility(16)    "
   ]
  },
  {
   "cell_type": "code",
   "execution_count": null,
   "metadata": {},
   "outputs": [],
   "source": []
  }
 ],
 "metadata": {
  "kernelspec": {
   "display_name": "Python 3",
   "language": "python",
   "name": "python3"
  },
  "language_info": {
   "codemirror_mode": {
    "name": "ipython",
    "version": 3
   },
   "file_extension": ".py",
   "mimetype": "text/x-python",
   "name": "python",
   "nbconvert_exporter": "python",
   "pygments_lexer": "ipython3",
   "version": "3.7.3"
  }
 },
 "nbformat": 4,
 "nbformat_minor": 2
}
