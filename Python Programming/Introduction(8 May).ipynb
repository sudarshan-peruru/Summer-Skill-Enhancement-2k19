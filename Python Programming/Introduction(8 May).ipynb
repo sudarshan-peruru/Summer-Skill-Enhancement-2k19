{
 "cells": [
  {
   "cell_type": "markdown",
   "metadata": {},
   "source": [
    "# Intorduction"
   ]
  },
  {
   "cell_type": "code",
   "execution_count": 5,
   "metadata": {},
   "outputs": [
    {
     "name": "stdout",
     "output_type": "stream",
     "text": [
      "Hello World\n"
     ]
    }
   ],
   "source": [
    "print(\"Hello World\")"
   ]
  },
  {
   "cell_type": "code",
   "execution_count": 9,
   "metadata": {},
   "outputs": [
    {
     "name": "stdout",
     "output_type": "stream",
     "text": [
      "51412\n"
     ]
    }
   ],
   "source": [
    "var1 = 123\n",
    "var2 = (var1 * var1) ** (var1*100)\n",
    "var3 = var1 * var2\n",
    "print(len(str(var2)))"
   ]
  },
  {
   "cell_type": "code",
   "execution_count": 12,
   "metadata": {},
   "outputs": [
    {
     "data": {
      "text/plain": [
       "str"
      ]
     },
     "execution_count": 12,
     "metadata": {},
     "output_type": "execute_result"
    }
   ],
   "source": [
    "type(var1)\n",
    "type(\"python\")"
   ]
  },
  {
   "cell_type": "markdown",
   "metadata": {},
   "source": [
    "# String Slicing"
   ]
  },
  {
   "cell_type": "code",
   "execution_count": 11,
   "metadata": {
    "scrolled": false
   },
   "outputs": [
    {
     "data": {
      "text/plain": [
       "'Python ProgrammingPython ProgrammingPython ProgrammingPython ProgrammingPython ProgrammingPython ProgrammingPython ProgrammingPython ProgrammingPython ProgrammingPython Programming'"
      ]
     },
     "execution_count": 11,
     "metadata": {},
     "output_type": "execute_result"
    }
   ],
   "source": [
    "str1 = \"Python Programming\"\n",
    "\n",
    "str1[0]               # Acessing first character\n",
    "str1[len(str1)-1]     #Acessing last character\n",
    "str1[0:6]             #Printing first six characters\n",
    "str1[len(str1)-1::-1] #Printing all characters in reverse order\n",
    "str1[0:len(str1):2]   #Printing alternate characters\n",
    "str1[5::-2]           #Printing alternate characters in reverse order\n",
    "str1*10               #Printing string multiple times"
   ]
  },
  {
   "cell_type": "markdown",
   "metadata": {},
   "source": [
    "# Lists"
   ]
  },
  {
   "cell_type": "code",
   "execution_count": 1,
   "metadata": {},
   "outputs": [
    {
     "name": "stdout",
     "output_type": "stream",
     "text": [
      "1 2 3 4 5 6 7 8 9 "
     ]
    }
   ],
   "source": [
    "li = [123, 345, 'Python']\n",
    "\n",
    "li                                #Printing the list\n",
    "len(li)                           #Printing the length of list\n",
    "li[len(li)-1] = 'Programming'     #Replacing an element\n",
    "li.append('Python')               #Adding a new element to the list\n",
    "li[2:]                            #Prints the elements after li[2]\n",
    "li.pop()                          #Pops last element in the list\n",
    "li.remove(345)                    #Removes selected element\n",
    "li.pop(0)                         #Pops element at selected position\n",
    "li.insert(0,123)                  #Inserts element at given position\n",
    "li2 = [[1,2,3],[4,5,6],[7,8,9]]   #3 by 3 array is implimented\n",
    "li2.insert(3,[10,11,12])          #Inserts given elements into 3rd position\n",
    "li2.pop(3)                        #Deletes elements at given position\n",
    "li2.remove([7,8,9])               #Deletes slected data\n",
    "li2 = [[1,2,3],[4,5,6],[7,8,9]]   #3 by 3 array is implimented\n",
    "li2.sort()                        #Sorts the elements in the list\n",
    "li.extend([765,432,999])          #Adding multiple elements to a list at once\n",
    "for i in range(0,len(li2)):       #Printing an array using for loop\n",
    "    for j in range(0,len(li2[i])):\n",
    "        print(li2[i][j], end = ' ')  "
   ]
  },
  {
   "cell_type": "markdown",
   "metadata": {},
   "source": [
    "# Tuples"
   ]
  },
  {
   "cell_type": "code",
   "execution_count": 2,
   "metadata": {},
   "outputs": [
    {
     "data": {
      "text/plain": [
       "'321 543 765'"
      ]
     },
     "execution_count": 2,
     "metadata": {},
     "output_type": "execute_result"
    }
   ],
   "source": [
    "t1 = (123, 345, 567)#Creates tuple\n",
    "t1[2] + t1[1]#Adds the elements at given postions \n",
    "t1[len(t1)-1]#Acesses the last element of tuple\n",
    "t1[1:3]#Prints elements from given position till given position\n",
    "str(t1[0])[1] + \" \" + str(t1[1])[1] + \" \" + str(t1[2])[1] #Prints the 2nd digit of every no. in tuple\n",
    "str(t1[0])[2::-1] + \" \" + str(t1[1])[2::-1] + \" \" + str(t1[2])[2::-1]#Prints the ekement digits in opposite way"
   ]
  },
  {
   "cell_type": "markdown",
   "metadata": {},
   "source": [
    "# Reading input from a user"
   ]
  },
  {
   "cell_type": "code",
   "execution_count": 3,
   "metadata": {},
   "outputs": [
    {
     "name": "stdout",
     "output_type": "stream",
     "text": [
      "Enter a string: Hello\n"
     ]
    },
    {
     "data": {
      "text/plain": [
       "'Hello'"
      ]
     },
     "execution_count": 3,
     "metadata": {},
     "output_type": "execute_result"
    }
   ],
   "source": [
    "str1 = input(\"Enter a string: \")#Prints given matter and takes input from user\n",
    "str1"
   ]
  },
  {
   "cell_type": "markdown",
   "metadata": {},
   "source": [
    "# Dictionaries"
   ]
  },
  {
   "cell_type": "code",
   "execution_count": 11,
   "metadata": {},
   "outputs": [],
   "source": [
    "d1 = {'procedural':'c','Scripting':'Python','Functional':'Haskell','Symbolic':'Mathematica'}\n",
    "d1.values()\n",
    "d1.keys()\n",
    "d2 = {'Symbolic':'Mathematica','logic':'Prolog'}\n",
    "d1.update(d2)#Merging two dictionaries\n",
    "d1['ObjectOriented'] = 'Java'"
   ]
  }
 ],
 "metadata": {
  "kernelspec": {
   "display_name": "Python 3",
   "language": "python",
   "name": "python3"
  },
  "language_info": {
   "codemirror_mode": {
    "name": "ipython",
    "version": 3
   },
   "file_extension": ".py",
   "mimetype": "text/x-python",
   "name": "python",
   "nbconvert_exporter": "python",
   "pygments_lexer": "ipython3",
   "version": "3.7.3"
  }
 },
 "nbformat": 4,
 "nbformat_minor": 2
}
